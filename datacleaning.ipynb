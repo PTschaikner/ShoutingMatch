{
 "cells": [
  {
   "cell_type": "code",
   "execution_count": 3,
   "metadata": {},
   "outputs": [
    {
     "name": "stdout",
     "output_type": "stream",
     "text": [
      "                  date period  session speaker_id caller_id\n",
      "0  2023-09-20T00:00:00  XXVII      230      14795     52687\n",
      "1  2023-09-20T00:00:00  XXVII      230      14795     35514\n",
      "2  2023-09-20T00:00:00  XXVII      230      14795     35514\n",
      "3  2023-09-20T00:00:00  XXVII      230       6486     35520\n",
      "4  2023-09-20T00:00:00  XXVII      230       6486     35520\n"
     ]
    }
   ],
   "source": [
    "import pandas as pd\n",
    "import json\n",
    "\n",
    "# Step 1: Load the JSON Data\n",
    "with open('sessions.json', 'r', encoding='utf-8') as file:\n",
    "    data = json.load(file)\n",
    "\n",
    "# Step 2: Extract Relevant Information\n",
    "callouts_data = []\n",
    "\n",
    "for session in data:\n",
    "    for section in session[\"sections\"]:\n",
    "        for callout in section[\"callouts\"]:\n",
    "            if \"caller\" in callout:  # Ensure there's a caller identified\n",
    "                callouts_data.append({\n",
    "                    \"date\": session[\"date\"],\n",
    "                    \"period\": session[\"period\"],\n",
    "                    \"session\": session[\"sessionNumber\"],\n",
    "                    \"speaker_id\": section[\"speaker\"],\n",
    "                    \"caller_id\": callout.get(\"caller\")\n",
    "                })\n",
    "\n",
    "# Step 3: Create the DataFrame\n",
    "df_callouts = pd.DataFrame(callouts_data)\n",
    "\n",
    "# Display the first few rows of the DataFrame to verify\n",
    "print(df_callouts.head())"
   ]
  },
  {
   "cell_type": "code",
   "execution_count": 4,
   "metadata": {},
   "outputs": [
    {
     "name": "stdout",
     "output_type": "stream",
     "text": [
      "                  date period  session speaker_id caller_id  \\\n",
      "0  2023-09-20T00:00:00  XXVII      230      14795     52687   \n",
      "1  2023-09-20T00:00:00  XXVII      230      14795     35514   \n",
      "2  2023-09-20T00:00:00  XXVII      230      14795     35514   \n",
      "3  2023-09-20T00:00:00  XXVII      230       6486     35520   \n",
      "4  2023-09-20T00:00:00  XXVII      230       6486     35520   \n",
      "\n",
      "             caller_name            speaker_name caller_parties  \\\n",
      "0  Alois Stöger, diplômé         August Wöginger            SPÖ   \n",
      "1        Wolfgang Zanger         August Wöginger            FPÖ   \n",
      "2        Wolfgang Zanger         August Wöginger            FPÖ   \n",
      "3          Herbert Kickl  MMag. Dr. Susanne Raab            FPÖ   \n",
      "4          Herbert Kickl  MMag. Dr. Susanne Raab            FPÖ   \n",
      "\n",
      "  speaker_parties  \n",
      "0             ÖVP  \n",
      "1             ÖVP  \n",
      "2             ÖVP  \n",
      "3             ÖVP  \n",
      "4             ÖVP  \n"
     ]
    }
   ],
   "source": [
    "# Load the persons data (assuming it's in a file named 'persons.json')\n",
    "with open('persons.json', 'r', encoding='utf-8') as file:\n",
    "    persons_data = json.load(file)\n",
    "\n",
    "# Create the lookup tables\n",
    "persons_lookup = {\n",
    "    person[\"id\"]: {\n",
    "        \"name\": person[\"name\"],\n",
    "        \"parties\": person[\"parties\"]\n",
    "    } for person in persons_data\n",
    "}\n",
    "\n",
    "# Update the DataFrame with caller_name, speaker_name, caller_parties, and speaker_parties\n",
    "df_callouts['caller_name'] = df_callouts['caller_id'].map(lambda x: persons_lookup.get(x, {}).get('name', 'Unknown'))\n",
    "df_callouts['speaker_name'] = df_callouts['speaker_id'].map(lambda x: persons_lookup.get(x, {}).get('name', 'Unknown'))\n",
    "df_callouts['caller_parties'] = df_callouts['caller_id'].map(lambda x: ', '.join(persons_lookup.get(x, {}).get('parties', [])))\n",
    "df_callouts['speaker_parties'] = df_callouts['speaker_id'].map(lambda x: ', '.join(persons_lookup.get(x, {}).get('parties', [])))\n",
    "\n",
    "# Display the updated DataFrame\n",
    "print(df_callouts.head())"
   ]
  }
 ],
 "metadata": {
  "kernelspec": {
   "display_name": "shoutingmatch-98XGrgbf-py3.10",
   "language": "python",
   "name": "python3"
  },
  "language_info": {
   "codemirror_mode": {
    "name": "ipython",
    "version": 3
   },
   "file_extension": ".py",
   "mimetype": "text/x-python",
   "name": "python",
   "nbconvert_exporter": "python",
   "pygments_lexer": "ipython3",
   "version": "3.10.12"
  }
 },
 "nbformat": 4,
 "nbformat_minor": 2
}
